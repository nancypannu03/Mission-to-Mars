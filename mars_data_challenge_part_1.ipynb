{
 "cells": [
  {
   "cell_type": "code",
   "execution_count": 40,
   "id": "1c67a0fe",
   "metadata": {},
   "outputs": [],
   "source": [
    "#Import BeautifulSoup and Pandas libraries\n",
    "\n",
    "from splinter import Browser\n",
    "from bs4 import BeautifulSoup as soup\n",
    "from webdriver_manager.chrome import ChromeDriverManager\n",
    "import pandas as pd\n",
    "\n"
   ]
  },
  {
   "cell_type": "code",
   "execution_count": 41,
   "id": "ba2a4e41",
   "metadata": {},
   "outputs": [],
   "source": [
    "# Set up Splinter\n",
    "executable_path = {'executable_path': ChromeDriverManager().install()}\n",
    "browser = Browser('chrome', **executable_path, headless=False)"
   ]
  },
  {
   "cell_type": "code",
   "execution_count": 42,
   "id": "4cb7f3f4",
   "metadata": {},
   "outputs": [
    {
     "data": {
      "text/plain": [
       "True"
      ]
     },
     "execution_count": 42,
     "metadata": {},
     "output_type": "execute_result"
    }
   ],
   "source": [
    "# Visit the Mars News site\n",
    "url ='https://redplanetscience.com/'\n",
    "browser.visit(url)\n",
    "\n",
    "# Optional delay for loading the page\n",
    "browser.is_element_present_by_css('div.list_text', wait_time=1)"
   ]
  },
  {
   "cell_type": "code",
   "execution_count": 43,
   "id": "2b814181",
   "metadata": {},
   "outputs": [],
   "source": [
    "# Parse the HTML\n",
    "html = browser.html\n",
    "news_soup = soup(html,'html.parser')\n",
    "\n",
    "slide_elem = news_soup.select_one('div.list_text')"
   ]
  },
  {
   "cell_type": "code",
   "execution_count": 44,
   "id": "77676fea",
   "metadata": {},
   "outputs": [
    {
     "data": {
      "text/plain": [
       "\"NASA's Treasure Map for Water Ice on Mars\""
      ]
     },
     "execution_count": 44,
     "metadata": {},
     "output_type": "execute_result"
    }
   ],
   "source": [
    "slide_elem.find('div', class_='content_title').get_text()\n"
   ]
  },
  {
   "cell_type": "code",
   "execution_count": 45,
   "id": "ff4d1d19",
   "metadata": {},
   "outputs": [
    {
     "data": {
      "text/plain": [
       "[<div class=\"list_text\">\n",
       " <div class=\"list_date\">November 9, 2022</div>\n",
       " <div class=\"content_title\">NASA's Treasure Map for Water Ice on Mars</div>\n",
       " <div class=\"article_teaser_body\">A new study identifies frozen water just below the Martian surface, where astronauts could easily dig it up.</div>\n",
       " </div>,\n",
       " <div class=\"list_text\">\n",
       " <div class=\"list_date\">November 8, 2022</div>\n",
       " <div class=\"content_title\">NASA's MAVEN Maps Winds in the Martian Upper Atmosphere that Mirror the Terrain Below and Gives Clues to Martian Climate</div>\n",
       " <div class=\"article_teaser_body\">Researchers have created the first map of wind circulation in the upper atmosphere of a planet besides Earth, using data from NASA’s MAVEN spacecraft that were collected during the last two years.</div>\n",
       " </div>,\n",
       " <div class=\"list_text\">\n",
       " <div class=\"list_date\">November 7, 2022</div>\n",
       " <div class=\"content_title\">NASA's Perseverance Rover Will Carry First Spacesuit Materials to Mars</div>\n",
       " <div class=\"article_teaser_body\">In a Q&amp;A, spacesuit designer Amy Ross explains how five samples, including a piece of helmet visor, will be tested aboard the rover, which is targeting a July 30 launch. </div>\n",
       " </div>,\n",
       " <div class=\"list_text\">\n",
       " <div class=\"list_date\">November 4, 2022</div>\n",
       " <div class=\"content_title\">A New Video Captures the Science of NASA's Perseverance Mars Rover</div>\n",
       " <div class=\"article_teaser_body\">With a targeted launch date of July 30, the next robotic scientist NASA is sending to the to the Red Planet has big ambitions.</div>\n",
       " </div>,\n",
       " <div class=\"list_text\">\n",
       " <div class=\"list_date\">November 1, 2022</div>\n",
       " <div class=\"content_title\">NASA's InSight Flexes Its Arm While Its 'Mole' Hits Pause</div>\n",
       " <div class=\"article_teaser_body\">Now that the lander's robotic arm has helped the mole get underground, it will resume science activities that have been on hold.</div>\n",
       " </div>,\n",
       " <div class=\"list_text\">\n",
       " <div class=\"list_date\">October 31, 2022</div>\n",
       " <div class=\"content_title\">Space History Is Made in This NASA Robot Factory</div>\n",
       " <div class=\"article_teaser_body\">From rockets to rovers, JPL's Spacecraft Assembly Facility has been at the center of robotic spaceflight. Here's a closer look at what makes it so special.</div>\n",
       " </div>,\n",
       " <div class=\"list_text\">\n",
       " <div class=\"list_date\">October 25, 2022</div>\n",
       " <div class=\"content_title\">NASA's Perseverance Rover Will Peer Beneath Mars' Surface </div>\n",
       " <div class=\"article_teaser_body\">The agency's newest rover will use the first ground-penetrating radar instrument on the Martian surface to help search for signs of past microbial life. </div>\n",
       " </div>,\n",
       " <div class=\"list_text\">\n",
       " <div class=\"list_date\">October 24, 2022</div>\n",
       " <div class=\"content_title\">The Detective Aboard NASA's Perseverance Rover</div>\n",
       " <div class=\"article_teaser_body\">An instrument called SHERLOC will, with the help of its partner WATSON, hunt for signs of ancient life by detecting organic molecules and minerals.</div>\n",
       " </div>,\n",
       " <div class=\"list_text\">\n",
       " <div class=\"list_date\">October 22, 2022</div>\n",
       " <div class=\"content_title\">NASA's Curiosity Mars Rover Takes a New Selfie Before Record Climb</div>\n",
       " <div class=\"article_teaser_body\">Along with capturing an image before its steepest ascent ever, the robotic explorer filmed its \"selfie stick,\" or robotic arm, in action.</div>\n",
       " </div>,\n",
       " <div class=\"list_text\">\n",
       " <div class=\"list_date\">October 19, 2022</div>\n",
       " <div class=\"content_title\">Mars 2020 Unwrapped and Ready for More Testing</div>\n",
       " <div class=\"article_teaser_body\">In time-lapse video, bunny-suited engineers remove the inner layer of protective foil on NASA's Mars 2020 rover after it was relocated for testing.</div>\n",
       " </div>,\n",
       " <div class=\"list_text\">\n",
       " <div class=\"list_date\">October 14, 2022</div>\n",
       " <div class=\"content_title\">Common Questions about InSight's 'Mole'</div>\n",
       " <div class=\"article_teaser_body\">The following Q&amp;As with members of the team answer some of the most common questions about the burrowing device, part of a science instrument called the Heat Flow and Physical Properties Package (HP3).</div>\n",
       " </div>,\n",
       " <div class=\"list_text\">\n",
       " <div class=\"list_date\">October 14, 2022</div>\n",
       " <div class=\"content_title\">HiRISE Views NASA's InSight and Curiosity on Mars</div>\n",
       " <div class=\"article_teaser_body\">New images taken from space offer the clearest orbital glimpse yet of InSight as well as a view of Curiosity rolling along.</div>\n",
       " </div>,\n",
       " <div class=\"list_text\">\n",
       " <div class=\"list_date\">October 12, 2022</div>\n",
       " <div class=\"content_title\">Follow NASA's Perseverance Rover in Real Time on Its Way to Mars</div>\n",
       " <div class=\"article_teaser_body\">A crisply rendered web application can show you where the agency's Mars 2020 mission is right now as it makes its way to the Red Planet for a Feb. 18, 2021, landing.</div>\n",
       " </div>,\n",
       " <div class=\"list_text\">\n",
       " <div class=\"list_date\">October 12, 2022</div>\n",
       " <div class=\"content_title\">NASA's Mars Helicopter Attached to Mars 2020 Rover </div>\n",
       " <div class=\"article_teaser_body\">The helicopter will be first aircraft to perform flight tests on another planet.</div>\n",
       " </div>,\n",
       " <div class=\"list_text\">\n",
       " <div class=\"list_date\">October 11, 2022</div>\n",
       " <div class=\"content_title\">NASA's Perseverance Rover Is Midway to Mars </div>\n",
       " <div class=\"article_teaser_body\">Sometimes half measures can be a good thing – especially on a journey this long. The agency's latest rover only has about 146 million miles left to reach its destination.</div>\n",
       " </div>]"
      ]
     },
     "execution_count": 45,
     "metadata": {},
     "output_type": "execute_result"
    }
   ],
   "source": [
    "# Use the parent element to find the paragraph text\n",
    "news_p = news_soup.find_all('div', class_= 'list_text')\n",
    "news_p"
   ]
  },
  {
   "cell_type": "code",
   "execution_count": 46,
   "id": "070b106e",
   "metadata": {},
   "outputs": [],
   "source": [
    "mars_news = []"
   ]
  },
  {
   "cell_type": "code",
   "execution_count": 47,
   "id": "ba500571",
   "metadata": {},
   "outputs": [],
   "source": [
    "for m in news_p:\n",
    "    title = m.find(\"div\", class_=\"content_title\").text\n",
    "    preview = m.find(\"div\", class_=\"article_teaser_body\").text\n",
    "   \n",
    "    mars_dict = {}\n",
    "    mars_dict[\"title\"] = title\n",
    "    mars_dict[\"preview\"] = preview\n",
    "   \n",
    "    mars_news.append(mars_dict)"
   ]
  },
  {
   "cell_type": "code",
   "execution_count": 48,
   "id": "0abdfc64",
   "metadata": {},
   "outputs": [
    {
     "data": {
      "text/plain": [
       "{'title': \"NASA's Perseverance Rover Is Midway to Mars \",\n",
       " 'preview': \"Sometimes half measures can be a good thing – especially on a journey this long. The agency's latest rover only has about 146 million miles left to reach its destination.\"}"
      ]
     },
     "execution_count": 48,
     "metadata": {},
     "output_type": "execute_result"
    }
   ],
   "source": [
    "mars_dict\n"
   ]
  },
  {
   "cell_type": "code",
   "execution_count": 49,
   "id": "c46fd9a6",
   "metadata": {},
   "outputs": [
    {
     "data": {
      "text/plain": [
       "[{'title': \"NASA's Treasure Map for Water Ice on Mars\",\n",
       "  'preview': 'A new study identifies frozen water just below the Martian surface, where astronauts could easily dig it up.'},\n",
       " {'title': \"NASA's MAVEN Maps Winds in the Martian Upper Atmosphere that Mirror the Terrain Below and Gives Clues to Martian Climate\",\n",
       "  'preview': 'Researchers have created the first map of wind circulation in the upper atmosphere of a planet besides Earth, using data from NASA’s MAVEN spacecraft that were collected during the last two years.'},\n",
       " {'title': \"NASA's Perseverance Rover Will Carry First Spacesuit Materials to Mars\",\n",
       "  'preview': 'In a Q&A, spacesuit designer Amy Ross explains how five samples, including a piece of helmet visor, will be tested aboard the rover, which is targeting a July 30 launch. '},\n",
       " {'title': \"A New Video Captures the Science of NASA's Perseverance Mars Rover\",\n",
       "  'preview': 'With a targeted launch date of July 30, the next robotic scientist NASA is sending to the to the Red Planet has big ambitions.'},\n",
       " {'title': \"NASA's InSight Flexes Its Arm While Its 'Mole' Hits Pause\",\n",
       "  'preview': \"Now that the lander's robotic arm has helped the mole get underground, it will resume science activities that have been on hold.\"},\n",
       " {'title': 'Space History Is Made in This NASA Robot Factory',\n",
       "  'preview': \"From rockets to rovers, JPL's Spacecraft Assembly Facility has been at the center of robotic spaceflight. Here's a closer look at what makes it so special.\"},\n",
       " {'title': \"NASA's Perseverance Rover Will Peer Beneath Mars' Surface \",\n",
       "  'preview': \"The agency's newest rover will use the first ground-penetrating radar instrument on the Martian surface to help search for signs of past microbial life. \"},\n",
       " {'title': \"The Detective Aboard NASA's Perseverance Rover\",\n",
       "  'preview': 'An instrument called SHERLOC will, with the help of its partner WATSON, hunt for signs of ancient life by detecting organic molecules and minerals.'},\n",
       " {'title': \"NASA's Curiosity Mars Rover Takes a New Selfie Before Record Climb\",\n",
       "  'preview': 'Along with capturing an image before its steepest ascent ever, the robotic explorer filmed its \"selfie stick,\" or robotic arm, in action.'},\n",
       " {'title': 'Mars 2020 Unwrapped and Ready for More Testing',\n",
       "  'preview': \"In time-lapse video, bunny-suited engineers remove the inner layer of protective foil on NASA's Mars 2020 rover after it was relocated for testing.\"},\n",
       " {'title': \"Common Questions about InSight's 'Mole'\",\n",
       "  'preview': 'The following Q&As with members of the team answer some of the most common questions about the burrowing device, part of a science instrument called the Heat Flow and Physical Properties Package (HP3).'},\n",
       " {'title': \"HiRISE Views NASA's InSight and Curiosity on Mars\",\n",
       "  'preview': 'New images taken from space offer the clearest orbital glimpse yet of InSight as well as a view of Curiosity rolling along.'},\n",
       " {'title': \"Follow NASA's Perseverance Rover in Real Time on Its Way to Mars\",\n",
       "  'preview': \"A crisply rendered web application can show you where the agency's Mars 2020 mission is right now as it makes its way to the Red Planet for a Feb. 18, 2021, landing.\"},\n",
       " {'title': \"NASA's Mars Helicopter Attached to Mars 2020 Rover \",\n",
       "  'preview': 'The helicopter will be first aircraft to perform flight tests on another planet.'},\n",
       " {'title': \"NASA's Perseverance Rover Is Midway to Mars \",\n",
       "  'preview': \"Sometimes half measures can be a good thing – especially on a journey this long. The agency's latest rover only has about 146 million miles left to reach its destination.\"}]"
      ]
     },
     "execution_count": 49,
     "metadata": {},
     "output_type": "execute_result"
    }
   ],
   "source": [
    "mars_news"
   ]
  },
  {
   "cell_type": "code",
   "execution_count": 50,
   "id": "6b859484",
   "metadata": {},
   "outputs": [
    {
     "data": {
      "text/html": [
       "<div>\n",
       "<style scoped>\n",
       "    .dataframe tbody tr th:only-of-type {\n",
       "        vertical-align: middle;\n",
       "    }\n",
       "\n",
       "    .dataframe tbody tr th {\n",
       "        vertical-align: top;\n",
       "    }\n",
       "\n",
       "    .dataframe thead th {\n",
       "        text-align: right;\n",
       "    }\n",
       "</style>\n",
       "<table border=\"1\" class=\"dataframe\">\n",
       "  <thead>\n",
       "    <tr style=\"text-align: right;\">\n",
       "      <th></th>\n",
       "      <th>title</th>\n",
       "      <th>preview</th>\n",
       "    </tr>\n",
       "  </thead>\n",
       "  <tbody>\n",
       "    <tr>\n",
       "      <th>0</th>\n",
       "      <td>NASA's Treasure Map for Water Ice on Mars</td>\n",
       "      <td>A new study identifies frozen water just below...</td>\n",
       "    </tr>\n",
       "    <tr>\n",
       "      <th>1</th>\n",
       "      <td>NASA's MAVEN Maps Winds in the Martian Upper A...</td>\n",
       "      <td>Researchers have created the first map of wind...</td>\n",
       "    </tr>\n",
       "    <tr>\n",
       "      <th>2</th>\n",
       "      <td>NASA's Perseverance Rover Will Carry First Spa...</td>\n",
       "      <td>In a Q&amp;A, spacesuit designer Amy Ross explains...</td>\n",
       "    </tr>\n",
       "    <tr>\n",
       "      <th>3</th>\n",
       "      <td>A New Video Captures the Science of NASA's Per...</td>\n",
       "      <td>With a targeted launch date of July 30, the ne...</td>\n",
       "    </tr>\n",
       "    <tr>\n",
       "      <th>4</th>\n",
       "      <td>NASA's InSight Flexes Its Arm While Its 'Mole'...</td>\n",
       "      <td>Now that the lander's robotic arm has helped t...</td>\n",
       "    </tr>\n",
       "  </tbody>\n",
       "</table>\n",
       "</div>"
      ],
      "text/plain": [
       "                                               title  \\\n",
       "0          NASA's Treasure Map for Water Ice on Mars   \n",
       "1  NASA's MAVEN Maps Winds in the Martian Upper A...   \n",
       "2  NASA's Perseverance Rover Will Carry First Spa...   \n",
       "3  A New Video Captures the Science of NASA's Per...   \n",
       "4  NASA's InSight Flexes Its Arm While Its 'Mole'...   \n",
       "\n",
       "                                             preview  \n",
       "0  A new study identifies frozen water just below...  \n",
       "1  Researchers have created the first map of wind...  \n",
       "2  In a Q&A, spacesuit designer Amy Ross explains...  \n",
       "3  With a targeted launch date of July 30, the ne...  \n",
       "4  Now that the lander's robotic arm has helped t...  "
      ]
     },
     "execution_count": 50,
     "metadata": {},
     "output_type": "execute_result"
    }
   ],
   "source": [
    "df = pd.DataFrame(mars_news)\n",
    "df.head()"
   ]
  },
  {
   "cell_type": "code",
   "execution_count": 51,
   "id": "86347cf5",
   "metadata": {},
   "outputs": [
    {
     "name": "stdout",
     "output_type": "stream",
     "text": [
      "<class 'pandas.core.frame.DataFrame'>\n",
      "RangeIndex: 15 entries, 0 to 14\n",
      "Data columns (total 2 columns):\n",
      " #   Column   Non-Null Count  Dtype \n",
      "---  ------   --------------  ----- \n",
      " 0   title    15 non-null     object\n",
      " 1   preview  15 non-null     object\n",
      "dtypes: object(2)\n",
      "memory usage: 368.0+ bytes\n"
     ]
    }
   ],
   "source": [
    "df.info()"
   ]
  },
  {
   "cell_type": "code",
   "execution_count": 52,
   "id": "c3ef337a",
   "metadata": {},
   "outputs": [],
   "source": [
    "browser.quit()"
   ]
  },
  {
   "cell_type": "code",
   "execution_count": null,
   "id": "6e4e632f",
   "metadata": {},
   "outputs": [],
   "source": []
  }
 ],
 "metadata": {
  "kernelspec": {
   "display_name": "PythonData",
   "language": "python",
   "name": "pythondata"
  },
  "language_info": {
   "codemirror_mode": {
    "name": "ipython",
    "version": 3
   },
   "file_extension": ".py",
   "mimetype": "text/x-python",
   "name": "python",
   "nbconvert_exporter": "python",
   "pygments_lexer": "ipython3",
   "version": "3.9.12"
  }
 },
 "nbformat": 4,
 "nbformat_minor": 5
}
